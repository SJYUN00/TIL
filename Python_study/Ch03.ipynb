{
 "cells": [
  {
   "cell_type": "markdown",
   "metadata": {},
   "source": [
    "# 3장 함수로 나누어 풀기\n",
    "\n",
    "## 3.2 함수 호출\n",
    "함수를 작성후 ()로 함수를 호출한다.\n",
    "ex) abs(-10)\n",
    "name = input()\n",
    "\n",
    "## 3.3 함수 정의하기\n",
    "\n",
    "### 3.3.1 def 문으로 함수 정의하기\n",
    "\n",
    "def 함수이름():\n",
    "  본문"
   ]
  },
  {
   "cell_type": "code",
   "execution_count": 1,
   "metadata": {},
   "outputs": [
    {
     "name": "stdout",
     "output_type": "stream",
     "text": [
      "주문하실 음료를 알려 주세요.\n",
      "아메리카노 주문되었습니다.\n"
     ]
    }
   ],
   "source": [
    "# 3.3 def로 함수 정의\n",
    "\n",
    "def order():\n",
    "  print('주문하실 음료를 알려 주세요.')\n",
    "  drink = input()\n",
    "  print(drink, '주문되었습니다.')\n",
    "\n",
    "order()"
   ]
  },
  {
   "cell_type": "markdown",
   "metadata": {},
   "source": [
    "### 3.3.2 독스트링 (함수가 하는 일 설명하기)\n",
    "큰 따옴표 세개로 감싼다.\n",
    "\"\"\" 독스트링 \"\"\"\n",
    "ex) def order():\n",
    "      \"\"\" 사용자로부터 주문할 음료를 입력받아 주문 사항을 화면에 출력 \"\"\"\n",
    "      print('주문하실 음료를 알려 주세요.')\n",
    "      drink = input()\n",
    "      print(drink, '주문되었습니다.')\n",
    "\n",
    "### 3.3.3 매개변수 (데이터 전달받기)\n",
    "매개변수는 def문의 헤더행에서 괄호 속에 정의한다.\n",
    "\n",
    "여러개의 인자를 전달 받을 수도 있다.\n",
    "ex) def print_order(drink, cake):\n",
    "\n",
    "print_order('우유', '치즈케이크')\n",
    "\n",
    "### 3.3.4 return문 (데이터 반환하기)\n"
   ]
  },
  {
   "cell_type": "code",
   "execution_count": null,
   "metadata": {},
   "outputs": [],
   "source": []
  }
 ],
 "metadata": {
  "interpreter": {
   "hash": "09e1e06c19cf927a13c05dd9a63d5c9542c42aa791a746e25c639ce721876e4e"
  },
  "kernelspec": {
   "display_name": "Python 3.10.1 64-bit",
   "language": "python",
   "name": "python3"
  },
  "language_info": {
   "codemirror_mode": {
    "name": "ipython",
    "version": 3
   },
   "file_extension": ".py",
   "mimetype": "text/x-python",
   "name": "python",
   "nbconvert_exporter": "python",
   "pygments_lexer": "ipython3",
   "version": "3.10.1"
  },
  "orig_nbformat": 4
 },
 "nbformat": 4,
 "nbformat_minor": 2
}
