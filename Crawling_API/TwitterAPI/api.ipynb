{
 "cells": [
  {
   "cell_type": "code",
   "execution_count": 7,
   "metadata": {},
   "outputs": [],
   "source": [
    "import tweepy\n",
    "twitter_api_key = 'U5qkv7mBHwKzTte4a4ZHSKPYj'\n",
    "twitter_api_secret_key = 'VOKNTGkixi2EgrQUHbC8jhhHHJukuEfuLDmJ7AL55I1LBruN0e'\n",
    "twitter_access_token = '1513914895905210369-26F5tIgTqTrGrkw345pDt8MpcSnlNk'\n",
    "twitter_access_token_secret = 'DTt5xDuesTRMoW6zevg3HTgVaZPcDfrH1uvPVGv8D4Bog'\n"
   ]
  },
  {
   "cell_type": "code",
   "execution_count": 8,
   "metadata": {},
   "outputs": [],
   "source": [
    "## 모든 트윗 프린트함\n",
    "class SimpleStreamListener(tweepy.StreamListener):\n",
    " def on_status(self, status):\n",
    "  print(status)\n",
    "  \n",
    "stream_listener = SimpleStreamListener()\n",
    "auth = tweepy.OAuthHandler(twitter_api_key, twitter_api_secret_key)\n",
    "auth.set_access_token(twitter_access_token, twitter_access_token_secret)\n",
    "twitterStream = tweepy.Stream(auth, stream_listener)\n",
    "twitterStream.filter(track=['data'])"
   ]
  },
  {
   "cell_type": "code",
   "execution_count": 3,
   "metadata": {},
   "outputs": [
    {
     "data": {
      "text/plain": [
       "'3.10.0'"
      ]
     },
     "execution_count": 3,
     "metadata": {},
     "output_type": "execute_result"
    }
   ],
   "source": [
    "tweepy.__version__"
   ]
  },
  {
   "cell_type": "code",
   "execution_count": 12,
   "metadata": {},
   "outputs": [
    {
     "name": "stdout",
     "output_type": "stream",
     "text": [
      "<tweepy.streaming.Stream object at 0x0000023E712062C0>\n"
     ]
    }
   ],
   "source": [
    "print(twitterStream)"
   ]
  }
 ],
 "metadata": {
  "interpreter": {
   "hash": "b3ba2566441a7c06988d0923437866b63cedc61552a5af99d1f4fb67d367b25f"
  },
  "kernelspec": {
   "display_name": "Python 3.9.7 ('base')",
   "language": "python",
   "name": "python3"
  },
  "language_info": {
   "codemirror_mode": {
    "name": "ipython",
    "version": 3
   },
   "file_extension": ".py",
   "mimetype": "text/x-python",
   "name": "python",
   "nbconvert_exporter": "python",
   "pygments_lexer": "ipython3",
   "version": "3.10.0"
  },
  "orig_nbformat": 4
 },
 "nbformat": 4,
 "nbformat_minor": 2
}
